{
 "cells": [
  {
   "cell_type": "markdown",
   "id": "020d9393",
   "metadata": {},
   "source": [
    "## Background\n",
    "\n",
    "Automated Machine Learning (also known as AutoML) refers to techniques for automatically discovering good performance machine learning models with very little user involvement.\n",
    "\n",
    "Under this category, Hyperopt serves as a Python library that can perform hyper-parameter optimization with Bayesian optimization. It allows large scale of hyper-parameter optimization (e.g. hundreds of parameters)."
   ]
  },
  {
   "cell_type": "code",
   "execution_count": 1,
   "id": "ab23ddfd",
   "metadata": {},
   "outputs": [
    {
     "name": "stdout",
     "output_type": "stream",
     "text": [
      "WARN: OMP_NUM_THREADS=None =>\n",
      "... If you are using openblas if you are using openblas set OMP_NUM_THREADS=1 or risk subprocess calls hanging indefinitely\n"
     ]
    }
   ],
   "source": [
    "import pandas as pd\n",
    "import numpy as np\n",
    "from pandas import read_csv\n",
    "import lightgbm as lgb\n",
    "import matplotlib.pyplot as plt\n",
    "import seaborn as sns\n",
    "\n",
    "from sklearn.model_selection import train_test_split\n",
    "from sklearn.preprocessing import LabelEncoder\n",
    "from sklearn.model_selection import KFold, cross_val_score\n",
    "from sklearn.metrics import f1_score, confusion_matrix\n",
    "\n",
    "from hyperopt import hp, tpe, fmin, Trials, space_eval\n",
    "from functools import partial\n",
    "\n",
    "from hpsklearn import HyperoptEstimator\n",
    "from hpsklearn import any_classifier\n",
    "from hpsklearn import any_preprocessing"
   ]
  },
  {
   "cell_type": "markdown",
   "id": "289cebd5",
   "metadata": {},
   "source": [
    "## Hyper-parameter Settings"
   ]
  },
  {
   "cell_type": "code",
   "execution_count": 2,
   "id": "4c2be25d",
   "metadata": {},
   "outputs": [],
   "source": [
    "TEST_SIZE = 0.3\n",
    "NUM_FOLDS = 2\n",
    "RANDOM_STATE = 0"
   ]
  },
  {
   "cell_type": "markdown",
   "id": "890b75a0",
   "metadata": {},
   "source": [
    "## 1. Perform hyper-parameter tuning with hpsklearn wrapper"
   ]
  },
  {
   "cell_type": "code",
   "execution_count": 3,
   "id": "b5481a81",
   "metadata": {},
   "outputs": [],
   "source": [
    "# Load dataset\n",
    "url = 'https://raw.githubusercontent.com/jbrownlee/Datasets/master/sonar.csv'\n",
    "dataframe = read_csv(url, header=None)\n",
    "\n",
    "# Split into features and label\n",
    "data = dataframe.values\n",
    "X, y = data[:, :-1], data[:, -1]"
   ]
  },
  {
   "cell_type": "code",
   "execution_count": 4,
   "id": "40ef483f",
   "metadata": {},
   "outputs": [],
   "source": [
    "# Minimally process the dataset\n",
    "X = X.astype('float32')\n",
    "y = LabelEncoder().fit_transform(y.astype('str'))\n",
    "\n",
    "# Split into train and test sets\n",
    "X_train, X_test, y_train, y_test = train_test_split(X, y, test_size=TEST_SIZE, random_state=RANDOM_STATE)"
   ]
  },
  {
   "cell_type": "code",
   "execution_count": 5,
   "id": "8137f91d",
   "metadata": {},
   "outputs": [
    {
     "name": "stdout",
     "output_type": "stream",
     "text": [
      "\n",
      "==Run Hyper Optimization of sklearn classifiers==\n",
      "100%|██████████| 1/1 [00:00<00:00,  9.33trial/s, best loss: 0.13793103448275867]\n",
      "100%|██████████| 2/2 [00:00<00:00,  6.96trial/s, best loss: 0.13793103448275867]\n",
      "100%|██████████| 3/3 [00:00<00:00, 12.37trial/s, best loss: 0.13793103448275867]\n",
      "100%|██████████| 4/4 [00:00<00:00,  2.07trial/s, best loss: 0.13793103448275867]\n",
      "100%|██████████| 5/5 [00:00<00:00, 13.18trial/s, best loss: 0.13793103448275867]\n",
      "100%|██████████| 6/6 [00:00<00:00, 15.64trial/s, best loss: 0.13793103448275867]\n",
      "100%|██████████| 7/7 [00:00<00:00,  1.86trial/s, best loss: 0.13793103448275867]\n",
      "100%|██████████| 8/8 [00:00<00:00, 12.85trial/s, best loss: 0.13793103448275867]\n",
      "100%|██████████| 9/9 [00:00<00:00, 15.53trial/s, best loss: 0.13793103448275867]\n",
      "100%|██████████| 10/10 [00:02<00:00,  2.19s/trial, best loss: 0.13793103448275867]\n",
      "100%|██████████| 11/11 [00:00<00:00, 16.63trial/s, best loss: 0.13793103448275867]\n",
      "100%|██████████| 12/12 [00:00<00:00,  7.80trial/s, best loss: 0.10344827586206895]\n",
      "100%|██████████| 13/13 [00:00<00:00,  4.62trial/s, best loss: 0.10344827586206895]\n",
      "100%|██████████| 14/14 [00:00<00:00, 15.99trial/s, best loss: 0.10344827586206895]\n",
      "100%|██████████| 15/15 [00:00<00:00,  3.43trial/s, best loss: 0.10344827586206895]\n",
      "100%|██████████| 16/16 [00:00<00:00, 10.19trial/s, best loss: 0.10344827586206895]\n",
      "100%|██████████| 17/17 [00:00<00:00,  7.84trial/s, best loss: 0.10344827586206895]\n",
      "100%|██████████| 18/18 [00:00<00:00,  6.72trial/s, best loss: 0.10344827586206895]\n",
      "100%|██████████| 19/19 [00:00<00:00, 16.50trial/s, best loss: 0.06896551724137934]\n",
      "100%|██████████| 20/20 [00:00<00:00,  7.53trial/s, best loss: 0.06896551724137934]\n",
      "100%|██████████| 21/21 [00:00<00:00,  8.61trial/s, best loss: 0.06896551724137934]\n",
      "100%|██████████| 22/22 [00:00<00:00,  9.05trial/s, best loss: 0.06896551724137934]\n",
      "100%|██████████| 23/23 [00:00<00:00,  5.33trial/s, best loss: 0.06896551724137934]\n",
      "100%|██████████| 24/24 [00:00<00:00,  8.30trial/s, best loss: 0.06896551724137934]\n",
      "100%|██████████| 25/25 [00:00<00:00,  8.22trial/s, best loss: 0.06896551724137934]\n",
      "100%|██████████| 26/26 [00:00<00:00,  5.21trial/s, best loss: 0.06896551724137934]\n",
      "100%|██████████| 27/27 [00:02<00:00,  2.32s/trial, best loss: 0.06896551724137934]\n",
      "100%|██████████| 28/28 [00:00<00:00,  8.31trial/s, best loss: 0.06896551724137934]\n",
      "100%|██████████| 29/29 [00:00<00:00,  5.61trial/s, best loss: 0.06896551724137934]\n",
      "100%|██████████| 30/30 [00:00<00:00,  9.46trial/s, best loss: 0.03448275862068961]\n",
      "100%|██████████| 31/31 [00:00<00:00,  7.01trial/s, best loss: 0.03448275862068961]\n",
      "100%|██████████| 32/32 [00:00<00:00,  5.59trial/s, best loss: 0.03448275862068961]\n",
      "100%|██████████| 33/33 [00:00<00:00,  6.35trial/s, best loss: 0.03448275862068961]\n",
      "100%|██████████| 34/34 [00:00<00:00,  7.21trial/s, best loss: 0.03448275862068961]\n",
      "100%|██████████| 35/35 [00:00<00:00,  9.21trial/s, best loss: 0.03448275862068961]\n",
      "100%|██████████| 36/36 [00:01<00:00,  1.49s/trial, best loss: 0.03448275862068961]\n",
      "100%|██████████| 37/37 [00:01<00:00,  1.96s/trial, best loss: 0.03448275862068961]\n",
      "100%|██████████| 38/38 [00:00<00:00,  8.28trial/s, best loss: 0.03448275862068961]\n",
      "100%|██████████| 39/39 [00:00<00:00,  8.12trial/s, best loss: 0.03448275862068961]\n",
      "100%|██████████| 40/40 [00:00<00:00,  5.68trial/s, best loss: 0.03448275862068961]\n",
      "100%|██████████| 41/41 [00:00<00:00,  6.31trial/s, best loss: 0.03448275862068961]\n",
      "100%|██████████| 42/42 [00:00<00:00,  1.42trial/s, best loss: 0.03448275862068961]\n",
      "100%|██████████| 43/43 [00:00<00:00,  2.90trial/s, best loss: 0.03448275862068961]\n",
      "100%|██████████| 44/44 [00:02<00:00,  2.83s/trial, best loss: 0.03448275862068961]\n",
      "100%|██████████| 45/45 [00:00<00:00,  7.28trial/s, best loss: 0.03448275862068961]\n",
      "100%|██████████| 46/46 [00:00<00:00,  5.72trial/s, best loss: 0.03448275862068961]\n",
      "100%|██████████| 47/47 [00:00<00:00,  8.08trial/s, best loss: 0.03448275862068961]\n",
      "100%|██████████| 48/48 [00:00<00:00,  1.96trial/s, best loss: 0.03448275862068961]\n",
      "100%|██████████| 49/49 [00:00<00:00,  5.56trial/s, best loss: 0.03448275862068961]\n",
      "100%|██████████| 50/50 [00:01<00:00,  1.14s/trial, best loss: 0.03448275862068961]\n",
      "{'learner': KNeighborsClassifier(metric='manhattan', n_jobs=1, n_neighbors=1, p=1), 'preprocs': (StandardScaler(with_mean=False),), 'ex_preprocs': ()}\n"
     ]
    }
   ],
   "source": [
    "# Define search space\n",
    "model = HyperoptEstimator(classifier=any_classifier('cla'), preprocessing=any_preprocessing('pre'),\n",
    "                          algo=tpe.suggest, max_evals=50, trial_timeout=30)\n",
    "# Run hyper optimization\n",
    "print('\\n==Run Hyper Optimization of sklearn classifiers==')\n",
    "model.fit(X_train, y_train)\n",
    "\n",
    "# Show summary of the best model\n",
    "print(model.best_model())"
   ]
  },
  {
   "cell_type": "code",
   "execution_count": 6,
   "id": "154b78df",
   "metadata": {},
   "outputs": [
    {
     "name": "stdout",
     "output_type": "stream",
     "text": [
      "Test F1-Score: 0.868\n"
     ]
    },
    {
     "data": {
      "image/png": "[encoded data removed]",
      "text/plain": [
       "<Figure size 600x450 with 2 Axes>"
      ]
     },
     "metadata": {
      "needs_background": "light"
     },
     "output_type": "display_data"
    }
   ],
   "source": [
    "# Show summary of performance\n",
    "y_pred = model.predict(X_test)\n",
    "test_score = f1_score(y_test, y_pred)\n",
    "\n",
    "print(f\"Test F1-Score: {round(test_score, 3)}\")\n",
    "\n",
    "cf_matrix = confusion_matrix(y_test, y_pred)\n",
    "\n",
    "plt.figure(dpi=150, figsize=(4, 3))\n",
    "sns.heatmap(cf_matrix, annot=True)\n",
    "plt.show()"
   ]
  },
  {
   "cell_type": "markdown",
   "id": "162789c5",
   "metadata": {},
   "source": [
    "## 2. Perform hyper-parameter tuning with hyperopt in LGBM model\n",
    "\n",
    "- Include cross validation during training."
   ]
  },
  {
   "cell_type": "code",
   "execution_count": 7,
   "id": "e6fbcaa9",
   "metadata": {},
   "outputs": [],
   "source": [
    "kf = KFold(n_splits=NUM_FOLDS, random_state=RANDOM_STATE, shuffle=True)"
   ]
  },
  {
   "cell_type": "code",
   "execution_count": 8,
   "id": "ad402fad",
   "metadata": {},
   "outputs": [],
   "source": [
    "def f1_LGBM(PARA, DATA, FMIN, TRAIN):\n",
    "    \n",
    "    # Select The Appropriate Data\n",
    "    y_train = DATA[\"y_train\"]\n",
    "    X_train = DATA[\"X_train\"]\n",
    "    y_val = DATA[f\"y_test\"]\n",
    "    X_val = DATA[f\"X_test\"]\n",
    "    \n",
    "    # Train Model\n",
    "    mdl_lgb = lgb.LGBMClassifier(**PARA)  \n",
    "    \n",
    "    if FMIN:\n",
    "        score = cross_val_score(estimator=mdl_lgb, X=X_train, y=y_train, cv=kf, scoring=\"f1\", n_jobs=-1).mean()\n",
    "        \n",
    "        return -score\n",
    "    \n",
    "    else:\n",
    "        mdl_lgb.fit(X_train, y_train)\n",
    "        y_pred = mdl_lgb.predict(X_val)\n",
    "        score = f1_score(y_val, y_pred)\n",
    "        \n",
    "        return score, y_pred"
   ]
  },
  {
   "cell_type": "code",
   "execution_count": 9,
   "id": "b2eb8388",
   "metadata": {
    "scrolled": false
   },
   "outputs": [
    {
     "name": "stdout",
     "output_type": "stream",
     "text": [
      "\n",
      "==Hyper Optimization of LGBM Parameters==\n",
      "100%|██████████| 50/50 [00:07<00:00,  7.01trial/s, best loss: -0.7168843283582089]\n",
      "Best Parameters\n",
      "{'learning_rate': 0.01, 'min_child_weight': 0.0001, 'min_data_in_leaf': 33, 'n_estimators': 920, 'n_jobs': 5, 'num_leaves': 127, 'random_state': 0, 'reg_alpha': 0.3, 'reg_lambda': 0.9}\n"
     ]
    },
    {
     "data": {
      "text/html": [
       "<div>\n",
       "<style scoped>\n",
       "    .dataframe tbody tr th:only-of-type {\n",
       "        vertical-align: middle;\n",
       "    }\n",
       "\n",
       "    .dataframe tbody tr th {\n",
       "        vertical-align: top;\n",
       "    }\n",
       "\n",
       "    .dataframe thead th {\n",
       "        text-align: right;\n",
       "    }\n",
       "</style>\n",
       "<table border=\"1\" class=\"dataframe\">\n",
       "  <thead>\n",
       "    <tr style=\"text-align: right;\">\n",
       "      <th></th>\n",
       "      <th>param</th>\n",
       "    </tr>\n",
       "  </thead>\n",
       "  <tbody>\n",
       "    <tr>\n",
       "      <td>learning_rate</td>\n",
       "      <td>0.0100</td>\n",
       "    </tr>\n",
       "    <tr>\n",
       "      <td>min_child_weight</td>\n",
       "      <td>0.0001</td>\n",
       "    </tr>\n",
       "    <tr>\n",
       "      <td>min_data_in_leaf</td>\n",
       "      <td>33.0000</td>\n",
       "    </tr>\n",
       "    <tr>\n",
       "      <td>n_estimators</td>\n",
       "      <td>920.0000</td>\n",
       "    </tr>\n",
       "    <tr>\n",
       "      <td>n_jobs</td>\n",
       "      <td>5.0000</td>\n",
       "    </tr>\n",
       "    <tr>\n",
       "      <td>num_leaves</td>\n",
       "      <td>127.0000</td>\n",
       "    </tr>\n",
       "    <tr>\n",
       "      <td>random_state</td>\n",
       "      <td>0.0000</td>\n",
       "    </tr>\n",
       "    <tr>\n",
       "      <td>reg_alpha</td>\n",
       "      <td>0.3000</td>\n",
       "    </tr>\n",
       "    <tr>\n",
       "      <td>reg_lambda</td>\n",
       "      <td>0.9000</td>\n",
       "    </tr>\n",
       "  </tbody>\n",
       "</table>\n",
       "</div>"
      ],
      "text/plain": [
       "                     param\n",
       "learning_rate       0.0100\n",
       "min_child_weight    0.0001\n",
       "min_data_in_leaf   33.0000\n",
       "n_estimators      920.0000\n",
       "n_jobs              5.0000\n",
       "num_leaves        127.0000\n",
       "random_state        0.0000\n",
       "reg_alpha           0.3000\n",
       "reg_lambda          0.9000"
      ]
     },
     "execution_count": 9,
     "metadata": {},
     "output_type": "execute_result"
    }
   ],
   "source": [
    "print('\\n==Hyper Optimization of LGBM Parameters==')\n",
    "\n",
    "data_ML = {\n",
    "            \"X_train\": X_train,\n",
    "            \"y_train\": y_train,\n",
    "            \"X_test\": X_test,\n",
    "            \"y_test\": y_test,\n",
    "            }\n",
    "\n",
    "# Define search space\n",
    "lgb_space = {\n",
    "        'n_estimators': hp.choice('n_estimators', np.unique(np.logspace(np.log10(500), np.log10(1500), 10).astype(int))),\n",
    "        'num_leaves': hp.choice('num_leaves', np.unique(np.logspace(np.log10(128), np.log10(512), 4).astype(int))),\n",
    "        'learning_rate': hp.choice('learning_rate', np.logspace(-2, -4, 3)),\n",
    "        'min_child_weight': hp.choice('min_child_weight', np.logspace(-2, -4, 3)),\n",
    "        'min_data_in_leaf': hp.choice('min_data_in_leaf', np.unique(np.logspace(np.log10(25), np.log10(80), 5).astype(int))),\n",
    "        'reg_alpha': hp.choice('reg_alpha', [0,0.3,0.6,0.9]),\n",
    "        'reg_lambda': hp.choice('reg_lambda', [0,0.3,0.6,0.9]),\n",
    "        'random_state': hp.choice('random_state', [RANDOM_STATE]),\n",
    "        'n_jobs': hp.choice('n_jobs', [5])}\n",
    "\n",
    "func_opti = partial(f1_LGBM, DATA=data_ML, FMIN=True, TRAIN=True) #FMIN = True → -F1 (Because hyperopt wants to minimize)\n",
    "trials = Trials()\n",
    "\n",
    "# Run hyper optimization\n",
    "para_best = fmin(\n",
    "    fn=func_opti,\n",
    "    space=lgb_space,\n",
    "    algo=tpe.suggest,\n",
    "    return_argmin=False,\n",
    "    timeout=None,  # How many seconds to run\n",
    "    verbose=True,\n",
    "    max_evals=50,  # Max Number of Iterations\n",
    "    rstate=np.random.RandomState(0),\n",
    "    trials=trials\n",
    ")\n",
    "\n",
    "print(\"Best Parameters\")\n",
    "print(para_best)\n",
    "\n",
    "# Show summary of the best LGBM parameters\n",
    "df_param = pd.DataFrame(para_best, index=['param']).T\n",
    "df_param"
   ]
  },
  {
   "cell_type": "code",
   "execution_count": 10,
   "id": "4b697b04",
   "metadata": {},
   "outputs": [
    {
     "name": "stdout",
     "output_type": "stream",
     "text": [
      "[LightGBM] [Warning] min_data_in_leaf is set=33, min_child_samples=20 will be ignored. Current value: min_data_in_leaf=33\n",
      "Test F1-Score: 0.842\n"
     ]
    },
    {
     "data": {
      "image/png": "[encoded data removed]",
      "text/plain": [
       "<Figure size 600x450 with 2 Axes>"
      ]
     },
     "metadata": {
      "needs_background": "light"
     },
     "output_type": "display_data"
    }
   ],
   "source": [
    "# Show summary of performance\n",
    "F1_test, y_pred = f1_LGBM(para_best, data_ML, FMIN=False, TRAIN=False)\n",
    "print(f\"Test F1-Score: {round(F1_test, 3)}\")\n",
    "\n",
    "cf_matrix = confusion_matrix(y_test, y_pred)\n",
    "\n",
    "plt.figure(dpi=150, figsize=(4, 3))\n",
    "sns.heatmap(cf_matrix, annot=True)\n",
    "plt.show()"
   ]
  },
  {
   "cell_type": "code",
   "execution_count": 11,
   "id": "29383c4f",
   "metadata": {},
   "outputs": [],
   "source": [
    "tpe_results=np.array([[x['result']['loss'],\n",
    "                      x['misc']['vals']['n_estimators'][0],\n",
    "                      x['misc']['vals']['learning_rate'][0],\n",
    "                      x['misc']['vals']['min_child_weight'][0],\n",
    "                      x['misc']['vals']['min_data_in_leaf'][0],\n",
    "                      x['misc']['vals']['reg_alpha'][0],\n",
    "                      x['misc']['vals']['reg_lambda'][0]] for x in trials.trials])\n",
    "\n",
    "tpe_results_df=pd.DataFrame(tpe_results,\n",
    "                           columns=['loss', 'n_estimators', 'learning_rate', 'min_child_weight', \n",
    "                                    'min_data_in_leaf', 'reg_alpha', 'reg_lambda'])\n",
    "\n",
    "tpe_results_df.reset_index(inplace=True)\n",
    "tpe_results_df.rename(columns={'index':'iteration'}, inplace=True)"
   ]
  },
  {
   "cell_type": "code",
   "execution_count": 12,
   "id": "d5eb1099",
   "metadata": {},
   "outputs": [
    {
     "data": {
      "image/png": "[encoded data removed]",
      "text/plain": [
       "<Figure size 1080x360 with 1 Axes>"
      ]
     },
     "metadata": {
      "needs_background": "light"
     },
     "output_type": "display_data"
    }
   ],
   "source": [
    "tpe_results_df.plot(kind='line', x='iteration', y='loss', figsize=(15, 5))\n",
    "plt.show()"
   ]
  },
  {
   "cell_type": "markdown",
   "id": "d5b68b8b",
   "metadata": {},
   "source": [
    "---"
   ]
  },
  {
   "cell_type": "markdown",
   "id": "e950d416",
   "metadata": {},
   "source": [
    "## Reference\n",
    "\n",
    "1. https://machinelearningmastery.com/hyperopt-for-automated-machine-learning-with-scikit-learn/\n",
    "\n",
    "## Further Reading\n",
    "\n",
    "1. https://www.kaggle.com/ilialar/hyperparameters-tunning-with-hyperopt#Hyperopt\n",
    "\n",
    "2. https://github.com/hyperopt/hyperopt/wiki/FMin"
   ]
  }
 ],
 "metadata": {
  "kernelspec": {
   "display_name": "Python 3",
   "language": "python",
   "name": "python3"
  },
  "language_info": {
   "codemirror_mode": {
    "name": "ipython",
    "version": 3
   },
   "file_extension": ".py",
   "mimetype": "text/x-python",
   "name": "python",
   "nbconvert_exporter": "python",
   "pygments_lexer": "ipython3",
   "version": "3.8.0"
  }
 },
 "nbformat": 4,
 "nbformat_minor": 5
}
